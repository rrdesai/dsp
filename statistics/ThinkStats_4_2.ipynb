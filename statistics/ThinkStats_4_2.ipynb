{
 "cells": [
  {
   "cell_type": "code",
   "execution_count": 20,
   "metadata": {
    "collapsed": true
   },
   "outputs": [],
   "source": [
    "import random\n",
    "import pandas as pd\n",
    "import matplotlib.pyplot as plt\n",
    "import numpy as np\n",
    "\n",
    "randos = []\n",
    "while len(randos) < 1000:\n",
    "    randos.append(random.random())"
   ]
  },
  {
   "cell_type": "code",
   "execution_count": 33,
   "metadata": {
    "collapsed": false
   },
   "outputs": [
    {
     "name": "stdout",
     "output_type": "stream",
     "text": [
      "0.001980    0.001\n",
      "0.002048    0.002\n",
      "0.002593    0.003\n",
      "0.004670    0.004\n",
      "0.007772    0.005\n",
      "0.008831    0.006\n",
      "0.009691    0.007\n",
      "0.011101    0.008\n",
      "0.012310    0.009\n",
      "0.013269    0.010\n",
      "0.015712    0.011\n",
      "0.017614    0.012\n",
      "0.020139    0.013\n",
      "0.021268    0.014\n",
      "0.023301    0.015\n",
      "0.024447    0.016\n",
      "0.024449    0.017\n",
      "0.025366    0.018\n",
      "0.027280    0.019\n",
      "0.028086    0.020\n",
      "0.028095    0.021\n",
      "0.028640    0.022\n",
      "0.031374    0.023\n",
      "0.031388    0.024\n",
      "0.031402    0.025\n",
      "0.031589    0.026\n",
      "0.031676    0.027\n",
      "0.032550    0.028\n",
      "0.032697    0.029\n",
      "0.034756    0.030\n",
      "            ...  \n",
      "0.971548    0.971\n",
      "0.971839    0.972\n",
      "0.972299    0.973\n",
      "0.972669    0.974\n",
      "0.975262    0.975\n",
      "0.975810    0.976\n",
      "0.975971    0.977\n",
      "0.976409    0.978\n",
      "0.977601    0.979\n",
      "0.978844    0.980\n",
      "0.982029    0.981\n",
      "0.982827    0.982\n",
      "0.985881    0.983\n",
      "0.986037    0.984\n",
      "0.986063    0.985\n",
      "0.986257    0.986\n",
      "0.986685    0.987\n",
      "0.987187    0.988\n",
      "0.987454    0.989\n",
      "0.988258    0.990\n",
      "0.988353    0.991\n",
      "0.989084    0.992\n",
      "0.992110    0.993\n",
      "0.992980    0.994\n",
      "0.993322    0.995\n",
      "0.993935    0.996\n",
      "0.996827    0.997\n",
      "0.996954    0.998\n",
      "0.997541    0.999\n",
      "0.999796    1.000\n",
      "dtype: float64\n"
     ]
    }
   ],
   "source": [
    "randos_series = pd.Series(randos)\n",
    "randos_pmf = randos_series.value_counts().sort_values()/len(randos_series)\n",
    "randos_pmf = randos_pmf.sort_index()\n",
    "randos_pmf.plot(kind = 'bar')\n",
    "plt.show()\n",
    "cdf = np.cumsum(randos_pmf)\n",
    "cdf.plot(kind = 'line')\n",
    "plt.show()\n",
    "print cdf\n"
   ]
  },
  {
   "cell_type": "code",
   "execution_count": null,
   "metadata": {
    "collapsed": true
   },
   "outputs": [],
   "source": []
  },
  {
   "cell_type": "code",
   "execution_count": null,
   "metadata": {
    "collapsed": true
   },
   "outputs": [],
   "source": []
  }
 ],
 "metadata": {
  "anaconda-cloud": {},
  "kernelspec": {
   "display_name": "Python [Root]",
   "language": "python",
   "name": "Python [Root]"
  },
  "language_info": {
   "codemirror_mode": {
    "name": "ipython",
    "version": 2
   },
   "file_extension": ".py",
   "mimetype": "text/x-python",
   "name": "python",
   "nbconvert_exporter": "python",
   "pygments_lexer": "ipython2",
   "version": "2.7.12"
  }
 },
 "nbformat": 4,
 "nbformat_minor": 0
}
