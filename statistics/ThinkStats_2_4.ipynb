{
 "cells": [
  {
   "cell_type": "code",
   "execution_count": 2,
   "metadata": {
    "collapsed": false
   },
   "outputs": [
    {
     "name": "stderr",
     "output_type": "stream",
     "text": [
      "/Users/R1/anaconda/lib/python2.7/site-packages/matplotlib/font_manager.py:273: UserWarning: Matplotlib is building the font cache using fc-list. This may take a moment.\n",
      "  warnings.warn('Matplotlib is building the font cache using fc-list. This may take a moment.')\n"
     ]
    }
   ],
   "source": [
    "import re\n",
    "import pandas as pd\n",
    "import numpy as np\n",
    "import matplotlib.pyplot as plt\n",
    "import math\n",
    "\n"
   ]
  },
  {
   "cell_type": "code",
   "execution_count": 3,
   "metadata": {
    "collapsed": true
   },
   "outputs": [],
   "source": [
    "#define FixedWidthVariables class which reads & maps Stata dictionary files into pandas\n",
    "\n",
    "class FixedWidthVariables(object):\n",
    "\n",
    "    def __init__(self, variables, index_base = 0):\n",
    "        self.variables = variables\n",
    "        self.colspecs = variables[['start','end']] - index_base\n",
    "        self.colspecs = self.colspecs.astype(np.int).values.tolist()\n",
    "        self.names = variables['name']\n",
    "\n",
    "    def ReadFixedWidth(self, filename, **options):\n",
    "        df = pd.read_fwf(filename, colspecs = self.colspecs, names = self.names, **options)\n",
    "\n",
    "        return df\n",
    "\n"
   ]
  },
  {
   "cell_type": "code",
   "execution_count": 4,
   "metadata": {
    "collapsed": true
   },
   "outputs": [],
   "source": [
    "#define StatData to parse through Stata dct file and extract variable names \n",
    "\n",
    "def StatData(dct_file, **options):\n",
    "    types = dict(byte=int, int=int, long=int, float=int, double=float)\n",
    "\n",
    "    var_info = []\n",
    "    for line in open(dct_file, **options):\n",
    "        row = re.search(r'_column\\(([^)]*)\\)', line)\n",
    "        if row:\n",
    "            start = int(row.group(1))\n",
    "            t = line.split()\n",
    "            vtype, name, fstring = t[1:4]\n",
    "            name = name.lower()\n",
    "            if vtype.startswith('str'):\n",
    "                vtype = str\n",
    "            else:\n",
    "                vtype = types[vtype]\n",
    "            long_desc = ' '.join(t[4:]).strip('\"')\n",
    "            var_info.append((start, vtype, name, fstring, long_desc))\n",
    "\n",
    "    columns = ['start', 'type','name','fstring','desc']\n",
    "    variables = pd.DataFrame(var_info, columns = columns)\n",
    "\n",
    "    variables['end'] = variables.start.shift(-1)\n",
    "    variables.loc[len(variables)-1, 'end'] = 0\n",
    "    dct = FixedWidthVariables(variables, index_base = 1)\n",
    "    return dct\n"
   ]
  },
  {
   "cell_type": "code",
   "execution_count": 5,
   "metadata": {
    "collapsed": true
   },
   "outputs": [],
   "source": [
    "# CleanData removes noise from the datafile and standardizes some numbers\n",
    "\n",
    "def CleanData(df):\n",
    "    df.agepreg /= 100.0\n",
    "    df.loc[df.birthwgt_lb > 20, 'birthwgt_lb'] = np.nan\n",
    "    replacement = [97, 98, 99]\n",
    "    df.birthwgt_lb.replace(replacement, np.nan, inplace=True)\n",
    "    df.birthwgt_oz.replace(replacement, np.nan, inplace=True)\n",
    "    df.hpagelb.replace(replacement, np.nan, inplace=True)\n",
    "    df.babysex.replace([7,9], np.nan, inplace=True)\n",
    "    df.nbrnaliv.replace([9], np.nan, inplace=True)\n",
    "    df['totalwgt_lb'] = df.birthwgt_lb + df.birthwgt_oz / 16.0\n",
    "    df.cmintvw = np.nan"
   ]
  },
  {
   "cell_type": "code",
   "execution_count": 6,
   "metadata": {
    "collapsed": true
   },
   "outputs": [],
   "source": [
    "# cohen's d statistic  \n",
    "\n",
    "def cohens_d(array_1, array_2):\n",
    "    len1 = len(array_1)\n",
    "    len2 = len(array_2)\n",
    "    mean1 = array_1[~np.isnan(array_1)].mean()\n",
    "    var1 = array_1[~np.isnan(array_1)].var()\n",
    "    std1 = array_1[~np.isnan(array_1)].std()\n",
    "    mean2 = array_2[~np.isnan(array_2)].mean()\n",
    "    var2 = array_2[~np.isnan(array_2)].var()\n",
    "    std2 = array_2[~np.isnan(array_2)].std()\n",
    "    net_var = (len1*var1+len2*var2)/(len1+len2)\n",
    "    mean_diff = mean1 - mean2\n",
    "    print ' the mean difference is ', mean_diff\n",
    "    d = mean_diff/math.sqrt(net_var)\n",
    "    return d"
   ]
  },
  {
   "cell_type": "code",
   "execution_count": 7,
   "metadata": {
    "collapsed": false,
    "scrolled": true
   },
   "outputs": [
    {
     "name": "stdout",
     "output_type": "stream",
     "text": [
      " the mean difference is  -0.124761184535\n",
      " the mean difference is  0.0780372667775\n",
      "cohen's D for birth weight between first children and others is  -0.0886827459471\n",
      "cohen's D for pregnancy length between first children and others is  0.0288822092882\n"
     ]
    }
   ],
   "source": [
    "labels = '2002FemPreg.txt'\n",
    "data = '2002FemPreg.dat.gz'\n",
    "\n",
    "dct = StatData(labels)\n",
    "\n",
    "\n",
    "raw_data = dct.ReadFixedWidth(data, compression = 'gzip')\n",
    "CleanData(raw_data)\n",
    "live = raw_data[raw_data.outcome == 1]\n",
    "first = live[live.birthord == 1]\n",
    "rest = live[live.birthord != 1]\n",
    "\n",
    "weight_diff = cohens_d(first.totalwgt_lb.as_matrix(), rest.totalwgt_lb.as_matrix())\n",
    "gest_diff = cohens_d(first.prglngth.as_matrix(), rest.prglngth.as_matrix())\n",
    "\n",
    "print \"cohen's D for birth weight between first children and others is \", weight_diff\n",
    "print \"cohen's D for pregnancy length between first children and others is \", gest_diff"
   ]
  },
  {
   "cell_type": "code",
   "execution_count": 11,
   "metadata": {
    "collapsed": false
   },
   "outputs": [],
   "source": [
    "plt.hist(live.prglngth)\n",
    "plt.title('Pregnancy Length for Live Births')\n",
    "plt.xlabel('Weeks')\n",
    "plt.ylabel('Frequency')\n",
    "plt.show()"
   ]
  },
  {
   "cell_type": "code",
   "execution_count": null,
   "metadata": {
    "collapsed": true
   },
   "outputs": [],
   "source": []
  }
 ],
 "metadata": {
  "anaconda-cloud": {},
  "kernelspec": {
   "display_name": "Python [Root]",
   "language": "python",
   "name": "Python [Root]"
  },
  "language_info": {
   "codemirror_mode": {
    "name": "ipython",
    "version": 2
   },
   "file_extension": ".py",
   "mimetype": "text/x-python",
   "name": "python",
   "nbconvert_exporter": "python",
   "pygments_lexer": "ipython2",
   "version": "2.7.12"
  }
 },
 "nbformat": 4,
 "nbformat_minor": 0
}
