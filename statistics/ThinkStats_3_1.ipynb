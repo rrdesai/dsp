{
 "cells": [
  {
   "cell_type": "code",
   "execution_count": 1,
   "metadata": {
    "collapsed": false
   },
   "outputs": [
    {
     "name": "stderr",
     "output_type": "stream",
     "text": [
      "/Users/R1/anaconda/lib/python2.7/site-packages/matplotlib/font_manager.py:273: UserWarning: Matplotlib is building the font cache using fc-list. This may take a moment.\n",
      "  warnings.warn('Matplotlib is building the font cache using fc-list. This may take a moment.')\n"
     ]
    }
   ],
   "source": [
    "import re\n",
    "import pandas as pd\n",
    "import numpy as np\n",
    "import matplotlib.pyplot as plt\n",
    "import math"
   ]
  },
  {
   "cell_type": "code",
   "execution_count": 2,
   "metadata": {
    "collapsed": true
   },
   "outputs": [],
   "source": [
    "#define FixedWidthVariables class which reads & maps Stata dictionary files into pandas\n",
    "\n",
    "class FixedWidthVariables(object):\n",
    "\n",
    "    def __init__(self, variables, index_base = 0):\n",
    "        self.variables = variables\n",
    "        self.colspecs = variables[['start','end']] - index_base\n",
    "        self.colspecs = self.colspecs.astype(np.int).values.tolist()\n",
    "        self.names = variables['name']\n",
    "\n",
    "    def ReadFixedWidth(self, filename, **options):\n",
    "        df = pd.read_fwf(filename, colspecs = self.colspecs, names = self.names, **options)\n",
    "\n",
    "        return df\n"
   ]
  },
  {
   "cell_type": "code",
   "execution_count": 3,
   "metadata": {
    "collapsed": true
   },
   "outputs": [],
   "source": [
    "#define StatData to parse through Stata dct file and extract variable names \n",
    "\n",
    "def StatData(dct_file, **options):\n",
    "    types = dict(byte=int, int=int, long=int, float=int, double=float)\n",
    "\n",
    "    var_info = []\n",
    "    for line in open(dct_file, **options):\n",
    "        row = re.search(r'_column\\(([^)]*)\\)', line)\n",
    "        if row:\n",
    "            start = int(row.group(1))\n",
    "            t = line.split()\n",
    "            vtype, name, fstring = t[1:4]\n",
    "            name = name.lower()\n",
    "            if vtype.startswith('str'):\n",
    "                vtype = str\n",
    "            else:\n",
    "                vtype = types[vtype]\n",
    "            long_desc = ' '.join(t[4:]).strip('\"')\n",
    "            var_info.append((start, vtype, name, fstring, long_desc))\n",
    "\n",
    "    columns = ['start', 'type','name','fstring','desc']\n",
    "    variables = pd.DataFrame(var_info, columns = columns)\n",
    "\n",
    "    variables['end'] = variables.start.shift(-1)\n",
    "    variables.loc[len(variables)-1, 'end'] = 0\n",
    "    dct = FixedWidthVariables(variables, index_base = 1)\n",
    "    return dct\n"
   ]
  },
  {
   "cell_type": "code",
   "execution_count": 4,
   "metadata": {
    "collapsed": false
   },
   "outputs": [],
   "source": [
    "labels = '2002FemResp.dct'\n",
    "datafile = '2002FemResp.dat.gz'\n",
    "\n",
    "\n",
    "dct = StatData(labels)\n",
    "\n",
    "raw_data = dct.ReadFixedWidth(datafile, compression = 'gzip')\n",
    "\n",
    "kids_in_hh = raw_data.numkdhh.as_matrix()\n",
    "biased_kids_in_hh = []\n",
    "\n",
    "for i in kids_in_hh:\n",
    "    if i==0:\n",
    "        continue\n",
    "    else:\n",
    "        j = 0\n",
    "        while j < i:\n",
    "            biased_kids_in_hh.append(i)\n",
    "            j+=1\n",
    "    \n",
    "kihh = pd.Series(kids_in_hh)\n",
    "bkihh = pd.Series(biased_kids_in_hh)\n",
    "\n"
   ]
  },
  {
   "cell_type": "code",
   "execution_count": 6,
   "metadata": {
    "collapsed": false,
    "scrolled": true
   },
   "outputs": [
    {
     "name": "stdout",
     "output_type": "stream",
     "text": [
      "0    0.466178\n",
      "1    0.214052\n",
      "2    0.196258\n",
      "3    0.087139\n",
      "4    0.025644\n",
      "5    0.010729\n",
      "dtype: float64\n",
      "1    0.208993\n",
      "2    0.383240\n",
      "3    0.255238\n",
      "4    0.100153\n",
      "5    0.052376\n",
      "dtype: float64\n",
      "unbiased mean 1.02420515504\n",
      "biased mean 2.40367910066\n"
     ]
    }
   ],
   "source": [
    "fig = plt.figure()\n",
    "ax = fig.add_subplot(111)\n",
    "\n",
    "\n",
    "pmf = kihh.value_counts().sort_index()/len(kihh)\n",
    "print pmf\n",
    "pmf.plot(kind = 'bar', facecolor = 'None', edgecolor = 'r', position = 0, subplots = True, sharex = True)\n",
    "plt.show()\n",
    "biased_pmf = bkihh.value_counts().sort_index()/len(bkihh)\n",
    "print biased_pmf\n",
    "biased_pmf.plot(kind = 'bar', facecolor = 'None', edgecolor = 'b', position = 0, subplots = True, sharex = True)\n",
    "plt.show()\n",
    "\n",
    "\n",
    "print \"unbiased mean\", kihh.mean()\n",
    "print \"biased mean\", bkihh.mean()"
   ]
  },
  {
   "cell_type": "code",
   "execution_count": null,
   "metadata": {
    "collapsed": true
   },
   "outputs": [],
   "source": []
  },
  {
   "cell_type": "code",
   "execution_count": null,
   "metadata": {
    "collapsed": true
   },
   "outputs": [],
   "source": []
  }
 ],
 "metadata": {
  "anaconda-cloud": {},
  "kernelspec": {
   "display_name": "Python [Root]",
   "language": "python",
   "name": "Python [Root]"
  },
  "language_info": {
   "codemirror_mode": {
    "name": "ipython",
    "version": 2
   },
   "file_extension": ".py",
   "mimetype": "text/x-python",
   "name": "python",
   "nbconvert_exporter": "python",
   "pygments_lexer": "ipython2",
   "version": "2.7.12"
  }
 },
 "nbformat": 4,
 "nbformat_minor": 0
}
